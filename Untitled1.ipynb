{
  "nbformat": 4,
  "nbformat_minor": 0,
  "metadata": {
    "colab": {
      "provenance": []
    },
    "kernelspec": {
      "name": "python3",
      "display_name": "Python 3"
    },
    "language_info": {
      "name": "python"
    }
  },
  "cells": [
    {
      "cell_type": "markdown",
      "source": [
        "Exercicios"
      ],
      "metadata": {
        "id": "Jpb2maCk1eTL"
      }
    },
    {
      "cell_type": "code",
      "execution_count": null,
      "metadata": {
        "id": "gW2cfN3Q1cDX"
      },
      "outputs": [],
      "source": [
        "dados = {\n",
        "    'Crossfox': {'km': 35000, 'ano': 2005},\n",
        "    'DS5': {'km': 17000, 'ano': 2015},\n",
        "    'Fusca': {'km': 130000, 'ano': 1979},\n",
        "    'jetta': {'km': 56000, 'ano': 2011}, \n",
        "    'Passat': {'km': 62000, 'ano': 1999}\n",
        "}"
      ]
    },
    {
      "cell_type": "code",
      "source": [
        "def km_media(dataset, ano_atual):\n",
        "  for item in dados.items():\n",
        "    result = item[1]['km']/ (ano_atual - item[1]['ano'])\n",
        "    print(result)"
      ],
      "metadata": {
        "id": "ajxAZQNq4h16"
      },
      "execution_count": null,
      "outputs": []
    },
    {
      "cell_type": "code",
      "source": [
        "km_media(dados, 2019)"
      ],
      "metadata": {
        "colab": {
          "base_uri": "https://localhost:8080/"
        },
        "id": "-pc_-Ojr5eTC",
        "outputId": "d16961f2-a564-4320-a54a-5b9a989e1b74"
      },
      "execution_count": null,
      "outputs": [
        {
          "output_type": "stream",
          "name": "stdout",
          "text": [
            "2500.0\n",
            "4250.0\n",
            "3250.0\n",
            "7000.0\n",
            "3100.0\n"
          ]
        }
      ]
    },
    {
      "cell_type": "code",
      "source": [],
      "metadata": {
        "id": "1qugNdn25iCj"
      },
      "execution_count": null,
      "outputs": []
    },
    {
      "cell_type": "markdown",
      "source": [
        "Com retorno"
      ],
      "metadata": {
        "id": "isRAK7PH7kop"
      }
    },
    {
      "cell_type": "code",
      "source": [
        "dados = {\n",
        "    'Crossfox': {'km': 35000, 'ano': 2005}, \n",
        "    'DS5': {'km': 17000, 'ano': 2015}, \n",
        "    'Fusca': {'km': 130000, 'ano': 1979}, \n",
        "    'Jetta': {'km': 56000, 'ano': 2011}, \n",
        "    'Passat': {'km': 62000, 'ano': 1999}\n",
        "}"
      ],
      "metadata": {
        "id": "CpOdDipN7nyI"
      },
      "execution_count": null,
      "outputs": []
    },
    {
      "cell_type": "code",
      "source": [
        "def km_media(dataset, ano_atual):\n",
        "  result = {}\n",
        "  for item in dataset.items():\n",
        "    media = item[1]['km'] / (ano_atual - item[1]['ano'])\n",
        "    result.update ({item[0]: media})\n",
        "  return result"
      ],
      "metadata": {
        "id": "ZyXy89HS7qYA"
      },
      "execution_count": null,
      "outputs": []
    },
    {
      "cell_type": "code",
      "source": [
        "km_media(dados, 2019)"
      ],
      "metadata": {
        "colab": {
          "base_uri": "https://localhost:8080/"
        },
        "id": "lUGNEg4Z8Idz",
        "outputId": "979af743-40a6-42de-c4a7-7171d249e4e3"
      },
      "execution_count": null,
      "outputs": [
        {
          "output_type": "execute_result",
          "data": {
            "text/plain": [
              "{'Crossfox': 2500.0,\n",
              " 'DS5': 4250.0,\n",
              " 'Fusca': 3250.0,\n",
              " 'Jetta': 7000.0,\n",
              " 'Passat': 3100.0}"
            ]
          },
          "metadata": {},
          "execution_count": 15
        }
      ]
    },
    {
      "cell_type": "code",
      "source": [],
      "metadata": {
        "id": "7II6eCvq8uVH"
      },
      "execution_count": null,
      "outputs": []
    },
    {
      "cell_type": "markdown",
      "source": [
        "Melhorado"
      ],
      "metadata": {
        "id": "VnH7PWR49U05"
      }
    },
    {
      "cell_type": "code",
      "source": [
        "dados = {\n",
        "    'Crossfox': {'km': 35000, 'ano': 2005}, \n",
        "    'DS5': {'km': 17000, 'ano': 2015}, \n",
        "    'Fusca': {'km': 130000, 'ano': 1979}, \n",
        "    'Jetta': {'km': 56000, 'ano': 2011}, \n",
        "    'Passat': {'km': 62000, 'ano': 1999}\n",
        "}"
      ],
      "metadata": {
        "id": "mrsEUGO19YrX"
      },
      "execution_count": null,
      "outputs": []
    },
    {
      "cell_type": "code",
      "source": [
        "def km_media(dataset, ano_atual):\n",
        "    result = {}\n",
        "    for item in dataset.items():\n",
        "        media = item[1]['km'] / (ano_atual - item[1]['ano'])\n",
        "        item[1].update({'km_media': media})\n",
        "        result.update({item[0] : item[1]})\n",
        "\n",
        "    return result"
      ],
      "metadata": {
        "id": "AwzQm2v69a2H"
      },
      "execution_count": null,
      "outputs": []
    },
    {
      "cell_type": "code",
      "source": [
        "km_media(dados, 2019)"
      ],
      "metadata": {
        "colab": {
          "base_uri": "https://localhost:8080/"
        },
        "id": "vjg0vEJC-J-y",
        "outputId": "da06f7b7-34f3-437f-a3da-a18c7f8952a6"
      },
      "execution_count": null,
      "outputs": [
        {
          "output_type": "execute_result",
          "data": {
            "text/plain": [
              "{'Crossfox': {'km': 35000, 'ano': 2005, 'km_media': 2500.0},\n",
              " 'DS5': {'km': 17000, 'ano': 2015, 'km_media': 4250.0},\n",
              " 'Fusca': {'km': 130000, 'ano': 1979, 'km_media': 3250.0},\n",
              " 'Jetta': {'km': 56000, 'ano': 2011, 'km_media': 7000.0},\n",
              " 'Passat': {'km': 62000, 'ano': 1999, 'km_media': 3100.0}}"
            ]
          },
          "metadata": {},
          "execution_count": 20
        }
      ]
    },
    {
      "cell_type": "code",
      "source": [],
      "metadata": {
        "id": "I3eesveH-OTw"
      },
      "execution_count": null,
      "outputs": []
    }
  ]
}